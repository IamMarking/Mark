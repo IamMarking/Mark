{
  "nbformat": 4,
  "nbformat_minor": 0,
  "metadata": {
    "colab": {
      "name": "“3-2 MNIST 简单分类版本.ipynb”的副本",
      "version": "0.3.2",
      "provenance": [],
      "collapsed_sections": [],
      "include_colab_link": true
    },
    "language_info": {
      "codemirror_mode": {
        "name": "ipython",
        "version": 3
      },
      "file_extension": ".py",
      "mimetype": "text/x-python",
      "name": "python",
      "nbconvert_exporter": "python",
      "pygments_lexer": "ipython3",
      "version": "3.6.5"
    },
    "kernelspec": {
      "display_name": "Python 3",
      "language": "python",
      "name": "python3"
    }
  },
  "cells": [
    {
      "cell_type": "markdown",
      "metadata": {
        "id": "view-in-github",
        "colab_type": "text"
      },
      "source": [
        "<a href=\"https://colab.research.google.com/github/IamMarking/Mark/blob/master/3_2_MNIST_%E7%AE%80%E5%8D%95%E5%88%86%E7%B1%BB%E7%89%88%E6%9C%AC.ipynb\" target=\"_parent\"><img src=\"https://colab.research.google.com/assets/colab-badge.svg\" alt=\"Open In Colab\"/></a>"
      ]
    },
    {
      "metadata": {
        "id": "MdsmraTIcMFn",
        "colab_type": "text"
      },
      "cell_type": "markdown",
      "source": [
        "[神经网络学习](https://www.zybuluo.com/hanbingtao/note/433855)"
      ]
    },
    {
      "metadata": {
        "id": "Bynei4GacMFo",
        "colab_type": "code",
        "outputId": "fd8b2659-8397-4291-a831-a13f8e193bb4",
        "colab": {
          "base_uri": "https://localhost:8080/",
          "height": 153
        }
      },
      "cell_type": "code",
      "source": [
        "import tensorflow as tf\n",
        "\n",
        "old_v = tf.logging.get_verbosity()\n",
        "tf.logging.set_verbosity(tf.logging.ERROR)\n",
        "\n",
        "from tensorflow.examples.tutorials.mnist import input_data\n",
        "\n",
        "mnist = input_data.read_data_sets(\"MNIST_data/\", one_hot=True)\n",
        "\n",
        "tf.logging.set_verbosity(old_v)"
      ],
      "execution_count": 0,
      "outputs": [
        {
          "output_type": "stream",
          "text": [
            "Successfully downloaded train-images-idx3-ubyte.gz 9912422 bytes.\n",
            "Extracting MNIST_data/train-images-idx3-ubyte.gz\n",
            "Successfully downloaded train-labels-idx1-ubyte.gz 28881 bytes.\n",
            "Extracting MNIST_data/train-labels-idx1-ubyte.gz\n",
            "Successfully downloaded t10k-images-idx3-ubyte.gz 1648877 bytes.\n",
            "Extracting MNIST_data/t10k-images-idx3-ubyte.gz\n",
            "Successfully downloaded t10k-labels-idx1-ubyte.gz 4542 bytes.\n",
            "Extracting MNIST_data/t10k-labels-idx1-ubyte.gz\n"
          ],
          "name": "stdout"
        }
      ]
    },
    {
      "metadata": {
        "id": "YBMQfj9xcMFt",
        "colab_type": "text"
      },
      "cell_type": "markdown",
      "source": [
        "调试代码：\n",
        "- batch_size = 100 可以修改\n",
        "- 添加隐藏层\n",
        "- 激活函数\n",
        "- 初始化的值\n",
        "- 损失函数交叉熵\n",
        "- 优化器学习率的调整\n",
        "- 训练次数"
      ]
    },
    {
      "metadata": {
        "id": "XXTZkfC3yXhK",
        "colab_type": "code",
        "outputId": "520c6c1a-f5af-4cd6-8e5c-f2be71ce07c2",
        "colab": {
          "base_uri": "https://localhost:8080/",
          "height": 374
        }
      },
      "cell_type": "code",
      "source": [
        "import tensorflow as tf\n",
        "\n",
        "batch_size = 100  # 1 次放入 100 张图片进行训练，每张图片维度是 784 维\n",
        "\n",
        "n_batch = mnist.train.num_examples // batch_size  # 计算一共有多少个批次\n",
        "\n",
        "x = tf.placeholder(tf.float32,[None,784])   \n",
        "y = tf.placeholder(tf.float32,[None,10])\n",
        "keep_prob = tf.placeholder(tf.float32)\n",
        "\n",
        "# 构建一个简单的神经网络\n",
        "# W = tf.Variable(tf.zeros([784,10]))\n",
        "W = tf.Variable(tf.truncated_normal([784,10],stddev=0.1))\n",
        "b = tf.Variable(tf.zeros([10]))\n",
        "\n",
        "prediction = tf.nn.softmax(tf.matmul(x,W)+b)  # 100 * 784 * 784 * 10 = 100 * 10 * 10 * 1 = 100 * 1\n",
        "\n",
        "loss = tf.reduce_mean(tf.square(y-prediction))  # mse \n",
        "# loss = tf.nn.softmax_cross_entropy_with_logits(labels=y,logits=prediction)  # 交叉熵损失\n",
        "\n",
        "train_step = tf.train.GradientDescentOptimizer(0.1).minimize(loss)\n",
        "\n",
        "init = tf.global_variables_initializer()\n",
        "\n",
        "# 结果存放在一个布尔型变量中\n",
        "correct_prediction = tf.equal(tf.argmax(y,1), tf.argmax(prediction,1))  # argmax 返回一维张量中最大的值所在的位置\n",
        "\n",
        "# 求准确率\n",
        "accuracy = tf.reduce_mean(tf.cast(correct_prediction,tf.float32))  # 转换类型，由布尔型到 float32\n",
        "\n",
        "with tf.Session() as sess:\n",
        "    sess.run(init)\n",
        "    for epoch in range(21):  # 训练 21 次\n",
        "        for batch in range(n_batch):\n",
        "            batch_xs,batch_ys = mnist.train.next_batch(batch_size)  # 每 100 张依次进行训练\n",
        "            sess.run(train_step,feed_dict={x:batch_xs,y:batch_ys})\n",
        "            \n",
        "        acc = sess.run(accuracy,feed_dict={x:mnist.test.images,y:mnist.test.labels})  # 每一次的准确率变化\n",
        "        print('Iter ' + str(epoch) + ', Testing Accuracy ' + str(acc) )\n"
      ],
      "execution_count": 0,
      "outputs": [
        {
          "output_type": "stream",
          "text": [
            "Iter 0, Testing Accuracy 0.5795\n",
            "Iter 1, Testing Accuracy 0.7265\n",
            "Iter 2, Testing Accuracy 0.806\n",
            "Iter 3, Testing Accuracy 0.8425\n",
            "Iter 4, Testing Accuracy 0.8588\n",
            "Iter 5, Testing Accuracy 0.8683\n",
            "Iter 6, Testing Accuracy 0.8755\n",
            "Iter 7, Testing Accuracy 0.8794\n",
            "Iter 8, Testing Accuracy 0.8849\n",
            "Iter 9, Testing Accuracy 0.8868\n",
            "Iter 10, Testing Accuracy 0.8889\n",
            "Iter 11, Testing Accuracy 0.8906\n",
            "Iter 12, Testing Accuracy 0.892\n",
            "Iter 13, Testing Accuracy 0.8934\n",
            "Iter 14, Testing Accuracy 0.8952\n",
            "Iter 15, Testing Accuracy 0.8952\n",
            "Iter 16, Testing Accuracy 0.8979\n",
            "Iter 17, Testing Accuracy 0.8988\n",
            "Iter 18, Testing Accuracy 0.8999\n",
            "Iter 19, Testing Accuracy 0.9007\n",
            "Iter 20, Testing Accuracy 0.9013\n"
          ],
          "name": "stdout"
        }
      ]
    },
    {
      "metadata": {
        "id": "YVOCvkEh2Kk8",
        "colab_type": "code",
        "outputId": "b73db885-12ab-453f-f27f-5bdf2a44ddbd",
        "colab": {
          "base_uri": "https://localhost:8080/",
          "height": 357
        }
      },
      "cell_type": "code",
      "source": [
        "batch_size = 128  # 1 次放入 100 张图片进行训练，每张图片维度是 784 维\n",
        "\n",
        "n_batch = mnist.train.num_examples // batch_size  # 计算一共有多少个批次\n",
        "\n",
        "x = tf.placeholder(tf.float32,[None,784])   \n",
        "y = tf.placeholder(tf.float32,[None,10])\n",
        "keep_prob = tf.placeholder(tf.float32)\n",
        "\n",
        "# 构建一个简单的神经网络\n",
        "# W = tf.Variable(tf.zeros([784,10]))\n",
        "W1 = tf.Variable(tf.truncated_normal([784,200],stddev=0.1))  # 初始化权重\n",
        "b1 = tf.Variable(tf.zeros([200])+0.1)\n",
        "L1 = tf.nn.tanh(tf.matmul(x,W1)+b1)\n",
        "L1_drop = tf.nn.dropout(L1,keep_prob)\n",
        "\n",
        "W2 = tf.Variable(tf.truncated_normal([200,200],stddev=0.1))\n",
        "b2 = tf.Variable(tf.zeros([200])+0.1)\n",
        "L2 = tf.nn.tanh(tf.matmul(L1_drop,W2)+b2)\n",
        "L2_drop = tf.nn.dropout(L2,keep_prob)\n",
        "\n",
        "W3 = tf.Variable(tf.truncated_normal([200,100],stddev=0.1))\n",
        "b3 = tf.Variable(tf.zeros([100])+0.1)\n",
        "L3 = tf.nn.tanh(tf.matmul(L2_drop,W3)+b3)\n",
        "L3_drop = tf.nn.dropout(L3,keep_prob)\n",
        "\n",
        "\n",
        "W4 = tf.Variable(tf.truncated_normal([100,10],stddev=0.1))\n",
        "b4 = tf.Variable(tf.zeros([10])+0.1)\n",
        "\n",
        "prediction = tf.nn.softmax(tf.matmul(L3_drop,W4)+b4)  # 100 * 784 * 784 * 10 = 100 * 10 * 10 * 1 = 100 * 1\n",
        "\n",
        "# loss = tf.reduce_mean(tf.square(y-prediction))  # mse \n",
        "loss = tf.reduce_mean(tf.nn.softmax_cross_entropy_with_logits(labels=y,logits=prediction))  # 交叉熵损失\n",
        "\n",
        "train_step = tf.train.GradientDescentOptimizer(0.5).minimize(loss)\n",
        "\n",
        "init = tf.global_variables_initializer()\n",
        "\n",
        "# 结果存放在一个布尔型变量中\n",
        "correct_prediction = tf.equal(tf.argmax(y,1), tf.argmax(prediction,1))  # argmax 返回一维张量中最大的值所在的位置\n",
        "\n",
        "# 求准确率\n",
        "accuracy = tf.reduce_mean(tf.cast(correct_prediction,tf.float32))  # 转换类型，由布尔型到 float32\n",
        "\n",
        "with tf.Session() as sess:\n",
        "    sess.run(init)\n",
        "    for epoch in range(20):  # 训练 21 次\n",
        "        for batch in range(n_batch):\n",
        "            batch_xs,batch_ys = mnist.train.next_batch(batch_size)  # 每 100 张依次进行训练\n",
        "            sess.run(train_step,feed_dict={x:batch_xs,y:batch_ys,keep_prob:0.7})\n",
        "        \n",
        "        train_acc = sess.run(accuracy,feed_dict={x:mnist.train.images,y:mnist.train.labels,keep_prob:1.0})\n",
        "        test_acc = sess.run(accuracy,feed_dict={x:mnist.test.images,y:mnist.test.labels,keep_prob:1.0})  # 每一次的准确率变化\n",
        "        print('Iter ' + str(epoch) + ', Testing Accuracy ' + str(test_acc) + ', Training Accuracy ' + str(train_acc))"
      ],
      "execution_count": 0,
      "outputs": [
        {
          "output_type": "stream",
          "text": [
            "Iter 0, Testing Accuracy 0.9076, Training Accuracy 0.9051818\n",
            "Iter 1, Testing Accuracy 0.9264, Training Accuracy 0.9243636\n",
            "Iter 2, Testing Accuracy 0.9347, Training Accuracy 0.9338727\n",
            "Iter 3, Testing Accuracy 0.94, Training Accuracy 0.93954545\n",
            "Iter 4, Testing Accuracy 0.9442, Training Accuracy 0.9436727\n",
            "Iter 5, Testing Accuracy 0.9472, Training Accuracy 0.94969094\n",
            "Iter 6, Testing Accuracy 0.9511, Training Accuracy 0.95223635\n",
            "Iter 7, Testing Accuracy 0.9506, Training Accuracy 0.95336366\n",
            "Iter 8, Testing Accuracy 0.9564, Training Accuracy 0.9580909\n",
            "Iter 9, Testing Accuracy 0.956, Training Accuracy 0.9590545\n",
            "Iter 10, Testing Accuracy 0.957, Training Accuracy 0.9608909\n",
            "Iter 11, Testing Accuracy 0.9582, Training Accuracy 0.96294546\n",
            "Iter 12, Testing Accuracy 0.9603, Training Accuracy 0.96410906\n",
            "Iter 13, Testing Accuracy 0.9614, Training Accuracy 0.9644\n",
            "Iter 14, Testing Accuracy 0.9619, Training Accuracy 0.9662182\n",
            "Iter 15, Testing Accuracy 0.9634, Training Accuracy 0.9675636\n",
            "Iter 16, Testing Accuracy 0.964, Training Accuracy 0.9675818\n",
            "Iter 17, Testing Accuracy 0.9653, Training Accuracy 0.96936363\n",
            "Iter 18, Testing Accuracy 0.9661, Training Accuracy 0.97007275\n",
            "Iter 19, Testing Accuracy 0.9657, Training Accuracy 0.9714182\n"
          ],
          "name": "stdout"
        }
      ]
    },
    {
      "metadata": {
        "id": "v3bYo-g0llVa",
        "colab_type": "text"
      },
      "cell_type": "markdown",
      "source": [
        "**没有过拟合**\n",
        "\n",
        "Iter 18, Testing Accuracy 0.9661, Training Accuracy 0.97007275\n",
        "\n",
        "Iter 19, Testing Accuracy 0.9657, Training Accuracy 0.9714182"
      ]
    },
    {
      "metadata": {
        "id": "YySXt7RnkqkS",
        "colab_type": "text"
      },
      "cell_type": "markdown",
      "source": [
        ""
      ]
    },
    {
      "metadata": {
        "id": "jRq5TSPJkvmn",
        "colab_type": "text"
      },
      "cell_type": "markdown",
      "source": [
        "**过拟合**\n",
        "\n",
        "Iter 18, Testing Accuracy 0.9743, Training Accuracy 0.9912909\n",
        "\n",
        "Iter 19, Testing Accuracy 0.9755, Training Accuracy 0.9917091"
      ]
    },
    {
      "metadata": {
        "id": "paaMOidk2Dsf",
        "colab_type": "code",
        "colab": {}
      },
      "cell_type": "code",
      "source": [
        ""
      ],
      "execution_count": 0,
      "outputs": []
    },
    {
      "metadata": {
        "id": "hsDH3oSFcMFw",
        "colab_type": "code",
        "colab": {}
      },
      "cell_type": "code",
      "source": [
        ""
      ],
      "execution_count": 0,
      "outputs": []
    },
    {
      "metadata": {
        "id": "cQ3OG4rBcMFx",
        "colab_type": "code",
        "colab": {}
      },
      "cell_type": "code",
      "source": [
        ""
      ],
      "execution_count": 0,
      "outputs": []
    },
    {
      "metadata": {
        "id": "U8hd_EB4cMFz",
        "colab_type": "code",
        "colab": {}
      },
      "cell_type": "code",
      "source": [
        ""
      ],
      "execution_count": 0,
      "outputs": []
    },
    {
      "metadata": {
        "id": "vFkxjOaGcMF1",
        "colab_type": "code",
        "colab": {}
      },
      "cell_type": "code",
      "source": [
        ""
      ],
      "execution_count": 0,
      "outputs": []
    },
    {
      "metadata": {
        "id": "gyRv7-7PcMF3",
        "colab_type": "code",
        "colab": {}
      },
      "cell_type": "code",
      "source": [
        ""
      ],
      "execution_count": 0,
      "outputs": []
    },
    {
      "metadata": {
        "id": "9BBKmjFDcMF4",
        "colab_type": "code",
        "colab": {}
      },
      "cell_type": "code",
      "source": [
        ""
      ],
      "execution_count": 0,
      "outputs": []
    },
    {
      "metadata": {
        "id": "EtiOH6lqcMF7",
        "colab_type": "code",
        "colab": {}
      },
      "cell_type": "code",
      "source": [
        ""
      ],
      "execution_count": 0,
      "outputs": []
    },
    {
      "metadata": {
        "id": "hS3kCkMscMF9",
        "colab_type": "code",
        "colab": {}
      },
      "cell_type": "code",
      "source": [
        ""
      ],
      "execution_count": 0,
      "outputs": []
    },
    {
      "metadata": {
        "id": "6I5D87nbcMF-",
        "colab_type": "code",
        "colab": {}
      },
      "cell_type": "code",
      "source": [
        ""
      ],
      "execution_count": 0,
      "outputs": []
    },
    {
      "metadata": {
        "id": "9iWOQlsdcMGA",
        "colab_type": "code",
        "colab": {}
      },
      "cell_type": "code",
      "source": [
        ""
      ],
      "execution_count": 0,
      "outputs": []
    }
  ]
}